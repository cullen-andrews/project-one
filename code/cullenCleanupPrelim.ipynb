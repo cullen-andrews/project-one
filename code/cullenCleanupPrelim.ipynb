{
 "cells": [
  {
   "cell_type": "code",
   "execution_count": 4,
   "metadata": {},
   "outputs": [],
   "source": [
    "# this code evolved into a sandbox. \n",
    "\n",
    "# 2011, 2014, 2018 new goal\n",
    "\n",
    "import matplotlib.pyplot as plt\n",
    "import numpy as np"
   ]
  },
  {
   "cell_type": "code",
   "execution_count": 17,
   "metadata": {},
   "outputs": [],
   "source": [
    "import pandas as pd\n",
    "import scipy.stats as stats"
   ]
  },
  {
   "cell_type": "code",
   "execution_count": 7,
   "metadata": {
    "scrolled": true
   },
   "outputs": [
    {
     "data": {
      "text/html": [
       "<div>\n",
       "<style scoped>\n",
       "    .dataframe tbody tr th:only-of-type {\n",
       "        vertical-align: middle;\n",
       "    }\n",
       "\n",
       "    .dataframe tbody tr th {\n",
       "        vertical-align: top;\n",
       "    }\n",
       "\n",
       "    .dataframe thead th {\n",
       "        text-align: right;\n",
       "    }\n",
       "</style>\n",
       "<table border=\"1\" class=\"dataframe\">\n",
       "  <thead>\n",
       "    <tr style=\"text-align: right;\">\n",
       "      <th></th>\n",
       "      <th>Unnamed: 0</th>\n",
       "      <th>NAME OF DATA ELEMENT</th>\n",
       "      <th>dev-category</th>\n",
       "      <th>NOTES</th>\n",
       "    </tr>\n",
       "  </thead>\n",
       "  <tbody>\n",
       "    <tr>\n",
       "      <th>0</th>\n",
       "      <td>UNITID</td>\n",
       "      <td>Unit ID for institution</td>\n",
       "      <td>root</td>\n",
       "      <td>Shown/used on consumer website.</td>\n",
       "    </tr>\n",
       "    <tr>\n",
       "      <th>1</th>\n",
       "      <td>OPEID</td>\n",
       "      <td>8-digit OPE ID for institution</td>\n",
       "      <td>root</td>\n",
       "      <td>Shown/used on consumer website.</td>\n",
       "    </tr>\n",
       "    <tr>\n",
       "      <th>2</th>\n",
       "      <td>OPEID6</td>\n",
       "      <td>6-digit OPE ID for institution</td>\n",
       "      <td>root</td>\n",
       "      <td>Shown/used on consumer website.</td>\n",
       "    </tr>\n",
       "    <tr>\n",
       "      <th>3</th>\n",
       "      <td>INSTNM</td>\n",
       "      <td>Institution name</td>\n",
       "      <td>school</td>\n",
       "      <td>Shown/used on consumer website.</td>\n",
       "    </tr>\n",
       "    <tr>\n",
       "      <th>4</th>\n",
       "      <td>CITY</td>\n",
       "      <td>City</td>\n",
       "      <td>school</td>\n",
       "      <td>Shown/used on consumer website.</td>\n",
       "    </tr>\n",
       "  </tbody>\n",
       "</table>\n",
       "</div>"
      ],
      "text/plain": [
       "  Unnamed: 0            NAME OF DATA ELEMENT dev-category  \\\n",
       "0     UNITID         Unit ID for institution         root   \n",
       "1      OPEID  8-digit OPE ID for institution         root   \n",
       "2     OPEID6  6-digit OPE ID for institution         root   \n",
       "3     INSTNM                Institution name       school   \n",
       "4       CITY                            City       school   \n",
       "\n",
       "                             NOTES  \n",
       "0  Shown/used on consumer website.  \n",
       "1  Shown/used on consumer website.  \n",
       "2  Shown/used on consumer website.  \n",
       "3  Shown/used on consumer website.  \n",
       "4  Shown/used on consumer website.  "
      ]
     },
     "execution_count": 7,
     "metadata": {},
     "output_type": "execute_result"
    }
   ],
   "source": [
    "data_df = pd.read_csv(\"../Resources/College_Raw_Data/MERGED2018_19_PP.csv\", low_memory=False)\n",
    "#data_df.head()\n",
    "\n",
    "\n",
    "# Passing in the cleaned data dictionary for variables in non-empty columns in the 2018-19 data\n",
    "data_dictionary_df = pd.read_csv(\"../Resources/data_dictionary_clean.csv\", low_memory=False)\n",
    "data_dictionary_df.head()"
   ]
  },
  {
   "cell_type": "code",
   "execution_count": 8,
   "metadata": {},
   "outputs": [
    {
     "data": {
      "text/plain": [
       "0                        UNITID\n",
       "1                         OPEID\n",
       "2                        OPEID6\n",
       "3                        INSTNM\n",
       "4                          CITY\n",
       "                 ...           \n",
       "619                     SCUGFFN\n",
       "620          POOLYRS_FTFTAIDPCT\n",
       "621     FTFTPCTPELL_POOLED_SUPP\n",
       "622    FTFTPCTFLOAN_POOLED_SUPP\n",
       "623              SCUGFFN_POOLED\n",
       "Name: Unnamed: 0, Length: 624, dtype: object"
      ]
     },
     "execution_count": 8,
     "metadata": {},
     "output_type": "execute_result"
    }
   ],
   "source": [
    "variable_series = data_dictionary_df[\"Unnamed: 0\"]\n",
    "variable_series\n"
   ]
  },
  {
   "cell_type": "code",
   "execution_count": 9,
   "metadata": {},
   "outputs": [
    {
     "name": "stdout",
     "output_type": "stream",
     "text": [
      "0       0.182\n",
      "1       0.057\n",
      "2       0.110\n",
      "3       0.059\n",
      "4       0.203\n",
      "        ...  \n",
      "6799    0.188\n",
      "6800    0.188\n",
      "6801    0.188\n",
      "6802    0.188\n",
      "6803    0.483\n",
      "Name: CDR3, Length: 5879, dtype: float64\n"
     ]
    },
    {
     "data": {
      "text/plain": [
       "<matplotlib.axes._subplots.AxesSubplot at 0x23e1a7224e0>"
      ]
     },
     "execution_count": 9,
     "metadata": {},
     "output_type": "execute_result"
    },
    {
     "data": {
      "image/png": "[encoded data removed]",
      "text/plain": [
       "<Figure size 432x288 with 1 Axes>"
      ]
     },
     "metadata": {
      "needs_background": "light"
     },
     "output_type": "display_data"
    }
   ],
   "source": [
    "loan_default_series = data_df['CDR3'].dropna()\n",
    "\n",
    "print(loan_default_series)\n",
    "\n",
    "loan_default_series.plot.box()"
   ]
  },
  {
   "cell_type": "code",
   "execution_count": 10,
   "metadata": {},
   "outputs": [
    {
     "data": {
      "text/plain": [
       "<matplotlib.axes._subplots.AxesSubplot at 0x23e1aa093c8>"
      ]
     },
     "execution_count": 10,
     "metadata": {},
     "output_type": "execute_result"
    },
    {
     "data": {
      "image/png": "[encoded data removed]",
      "text/plain": [
       "<Figure size 432x288 with 1 Axes>"
      ]
     },
     "metadata": {
      "needs_background": "light"
     },
     "output_type": "display_data"
    }
   ],
   "source": [
    "wa_default_series = data_df.loc[data_df['STABBR'] == 'WA' , :]['CDR3']\n",
    "\n",
    "#print(wa_default_series)\n",
    "\n",
    "wa_default_series = wa_default_series.dropna()\n",
    "\n",
    "wa_default_series.plot.box()"
   ]
  },
  {
   "cell_type": "code",
   "execution_count": 11,
   "metadata": {},
   "outputs": [
    {
     "data": {
      "image/png": "[encoded data removed]",
      "text/plain": [
       "<Figure size 432x288 with 1 Axes>"
      ]
     },
     "metadata": {
      "needs_background": "light"
     },
     "output_type": "display_data"
    }
   ],
   "source": [
    "default_dict = {\"All\": loan_default_series.to_list(), \"WA\": wa_default_series.to_list()}\n",
    "\n",
    "fig, ax = plt.subplots()\n",
    "ax.set_title('aaaa')\n",
    "ax.set_ylabel('bbbb')\n",
    "\n",
    "ax.boxplot(default_dict.values())\n",
    "ax.set_xticklabels(default_dict.keys())\n",
    "\n",
    "plt.show()"
   ]
  },
  {
   "cell_type": "code",
   "execution_count": 12,
   "metadata": {},
   "outputs": [
    {
     "data": {
      "text/plain": [
       "<matplotlib.axes._subplots.AxesSubplot at 0x23e1ab13748>"
      ]
     },
     "execution_count": 12,
     "metadata": {},
     "output_type": "execute_result"
    },
    {
     "data": {
      "image/png": "[encoded data removed]",
      "text/plain": [
       "<Figure size 432x288 with 1 Axes>"
      ]
     },
     "metadata": {
      "needs_background": "light"
     },
     "output_type": "display_data"
    }
   ],
   "source": [
    "two_year_default_series = data_df.loc[data_df['HIGHDEG'] == 2 , :]['CDR3']\n",
    "\n",
    "#print(wa_default_series)\n",
    "\n",
    "two_year_default_series = two_year_default_series.dropna()\n",
    "\n",
    "two_year_default_series.plot.box()"
   ]
  },
  {
   "cell_type": "code",
   "execution_count": 19,
   "metadata": {},
   "outputs": [
    {
     "data": {
      "image/png": "[encoded data removed]",
      "text/plain": [
       "<Figure size 432x288 with 1 Axes>"
      ]
     },
     "metadata": {
      "needs_background": "light"
     },
     "output_type": "display_data"
    }
   ],
   "source": [
    "default_dict = {\"All\": loan_default_series.to_list(), \"Two Year\": two_year_default_series.to_list()}\n",
    "\n",
    "fig, ax = plt.subplots()\n",
    "ax.set_title('Proportion of Students Defaulting on Loans, Overall vs. Two Year Colleges')\n",
    "ax.set_ylabel('Default Proportion')\n",
    "\n",
    "ax.boxplot(default_dict.values())\n",
    "ax.set_xticklabels(default_dict.keys())\n",
    "\n",
    "test = stats.ttest_ind(loan_default_series.to_list(), two_year_default_series.to_list(), equal_var=False)\n",
    "ax.annotate(\"T-test for Difference in Default Proportion:\",xy=(1.1, 0.6) , xycoords='axes fraction' , xytext=(1.1, 0.6)) \n",
    "ax.annotate(f\"t = {test.statistic.round(2)}   p-value = {test.pvalue.round(4)}\", xy=(1.1, 0.5) , xycoords='axes fraction' , xytext=(1.1, 0.5))# , arrowprops= )\n",
    "\n",
    "\n",
    "plt.savefig(\"../visualize/two_vs_overall_default.png\", bbox_inches=\"tight\")\n",
    "\n",
    "\n",
    "\n",
    "\n",
    "plt.show()"
   ]
  },
  {
   "cell_type": "code",
   "execution_count": 33,
   "metadata": {},
   "outputs": [
    {
     "data": {
      "text/plain": [
       "3069    3\n",
       "4325    4\n",
       "6381    0\n",
       "2412    3\n",
       "1608    3\n",
       "Name: HIGHDEG, dtype: int64"
      ]
     },
     "execution_count": 33,
     "metadata": {},
     "output_type": "execute_result"
    }
   ],
   "source": [
    "default_sorted_df = data_df.sort_values(\"CDR3\")\n",
    "\n",
    "default_sorted_df.head()[\"HIGHDEG\"]"
   ]
  },
  {
   "cell_type": "code",
   "execution_count": null,
   "metadata": {},
   "outputs": [],
   "source": [
    "# master branch ZIP codes"
   ]
  }
 ],
 "metadata": {
  "kernelspec": {
   "display_name": "Python 3",
   "language": "python",
   "name": "python3"
  },
  "language_info": {
   "codemirror_mode": {
    "name": "ipython",
    "version": 3
   },
   "file_extension": ".py",
   "mimetype": "text/x-python",
   "name": "python",
   "nbconvert_exporter": "python",
   "pygments_lexer": "ipython3",
   "version": "3.6.10"
  }
 },
 "nbformat": 4,
 "nbformat_minor": 4
}

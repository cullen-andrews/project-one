{
 "cells": [
  {
   "cell_type": "markdown",
   "metadata": {},
   "source": [
    "##This Jupyter Notebook is (could be) for our Final Presentation.\n",
    "Using Matplotlib we should have 6-8 visuals of our data and save PNG images.\n",
    "\n",
    "Also, we need to create a write-up summarizing our major findings.\n",
    "This should include a heading for each 'question' we asked of the data, and under each heading, a short description of what we found and relevant plots. This will be the final version of our project repo's readme file.\n",
    "\n",
    "Presentation requirements:\n",
    "--Questions we found interesting and what motivated us to answer them?\n",
    "--Where an how we found the data we used to answer these questions\n",
    "--The data exploration and cleanup process (with jupyter notebook)\n",
    "--The analysis process (with jupyter notebook)\n",
    "--Our conclusions including a numerical summary and visuals of the summary\n",
    "--The implications of our findings: what do they mean?"
   ]
  },
  {
   "cell_type": "code",
   "execution_count": null,
   "metadata": {},
   "outputs": [],
   "source": []
  },
  {
   "cell_type": "code",
   "execution_count": null,
   "metadata": {},
   "outputs": [],
   "source": []
  }
 ],
 "metadata": {
  "kernelspec": {
   "display_name": "Python 3",
   "language": "python",
   "name": "python3"
  },
  "language_info": {
   "codemirror_mode": {
    "name": "ipython",
    "version": 3
   },
   "file_extension": ".py",
   "mimetype": "text/x-python",
   "name": "python",
   "nbconvert_exporter": "python",
   "pygments_lexer": "ipython3",
   "version": "3.6.10"
  }
 },
 "nbformat": 4,
 "nbformat_minor": 4
}

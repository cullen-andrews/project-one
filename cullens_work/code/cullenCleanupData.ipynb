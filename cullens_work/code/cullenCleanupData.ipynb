{
 "cells": [
  {
   "cell_type": "code",
   "execution_count": 3,
   "metadata": {},
   "outputs": [],
   "source": [
    "# This is to remove all columns for which all the data is null from\n",
    "# in the 2018 data set, which can be found at \n",
    "# https://ed-public-download.app.cloud.gov/downloads/CollegeScorecard_Raw_Data.zip\n",
    "# If you want to recreate this analysis, download that .zip file, extract and put the files\n",
    "# MERGED2011_12_PP.csv, MERGED2014_15_PP.csv, and MERGED2018_19_PP.csv in ../Resources.\n",
    "\n",
    "\n",
    "\n",
    "import matplotlib.pyplot as plt\n",
    "import numpy as np\n",
    "import pandas as pd\n",
    "\n"
   ]
  },
  {
   "cell_type": "code",
   "execution_count": 4,
   "metadata": {},
   "outputs": [],
   "source": [
    "data_2018_df = pd.read_csv(\"../Resources/College_Raw_Data/MERGED2018_19_PP.csv\", low_memory=False)\n",
    "data_2014_df = pd.read_csv(\"../Resources/College_Raw_Data/MERGED2014_15_PP.csv\", low_memory=False)\n",
    "data_2011_df = pd.read_csv(\"../Resources/College_Raw_Data/MERGED2011_12_PP.csv\", low_memory=False)"
   ]
  },
  {
   "cell_type": "code",
   "execution_count": 5,
   "metadata": {},
   "outputs": [],
   "source": [
    "# The 2018 data has a lot more empty colunms than the others, so null_cols is generated from\n",
    "# the 2018 set and applied to all three years of data\n",
    "\n",
    "null_cols = data_2018_df.columns[data_2018_df.isnull().all()]\n",
    "\n",
    "\n",
    "data_2018_df.drop(null_cols, axis = 1, inplace = True)\n",
    "# data_df.to_csv(\"../Resources/clean2018.csv\")"
   ]
  },
  {
   "cell_type": "code",
   "execution_count": 6,
   "metadata": {},
   "outputs": [],
   "source": [
    "\n",
    "\n",
    "data_2014_df.drop(null_cols, axis = 1, inplace = True)\n",
    "#data_df.to_csv(\"../Resources/clean2014.csv\")"
   ]
  },
  {
   "cell_type": "code",
   "execution_count": 7,
   "metadata": {},
   "outputs": [],
   "source": [
    "\n",
    "\n",
    "data_2011_df.drop(null_cols, axis = 1, inplace = True)\n",
    "#data_2011_df.to_csv(\"../Resources/clean2011.csv\")"
   ]
  },
  {
   "cell_type": "code",
   "execution_count": 8,
   "metadata": {},
   "outputs": [],
   "source": [
    "# There are still empty columns in the 2011 data, so I will get another list of null columns from it\n",
    "# and apply it to all data sets\n",
    "\n",
    "null_cols = data_2011_df.columns[data_2011_df.isnull().all()]\n",
    "\n",
    "data_2018_df.drop(null_cols, axis = 1, inplace = True)\n",
    "data_2018_df.to_csv(\"../Resources/clean2018.csv\")\n",
    "\n",
    "data_2014_df.drop(null_cols, axis = 1, inplace = True)\n",
    "data_2014_df.to_csv(\"../Resources/clean2014.csv\")\n",
    "\n",
    "data_2011_df.drop(null_cols, axis = 1, inplace = True)\n",
    "data_2011_df.to_csv(\"../Resources/clean2011.csv\")\n",
    "\n"
   ]
  },
  {
   "cell_type": "code",
   "execution_count": null,
   "metadata": {},
   "outputs": [],
   "source": []
  }
 ],
 "metadata": {
  "kernelspec": {
   "display_name": "Python 3",
   "language": "python",
   "name": "python3"
  },
  "language_info": {
   "codemirror_mode": {
    "name": "ipython",
    "version": 3
   },
   "file_extension": ".py",
   "mimetype": "text/x-python",
   "name": "python",
   "nbconvert_exporter": "python",
   "pygments_lexer": "ipython3",
   "version": "3.6.10"
  }
 },
 "nbformat": 4,
 "nbformat_minor": 4
}

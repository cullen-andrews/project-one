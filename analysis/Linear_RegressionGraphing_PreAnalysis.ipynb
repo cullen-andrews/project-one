{
 "cells": [
  {
   "cell_type": "code",
   "execution_count": null,
   "metadata": {},
   "outputs": [],
   "source": [
    "# Dependencies and Setup\n",
    "import matplotlib.pyplot as plt\n",
    "import pandas as pd\n",
    "import numpy as np\n",
    "import scipy.stats as st"
   ]
  },
  {
   "cell_type": "code",
   "execution_count": null,
   "metadata": {},
   "outputs": [],
   "source": [
    "#Import the csv file to analyze below\n",
    "chart_data = pd.read_csv('<input csv>')"
   ]
  },
  {
   "cell_type": "code",
   "execution_count": null,
   "metadata": {},
   "outputs": [],
   "source": [
    "def linear_reg(x,y):\n",
    "    # Plot Data\n",
    "    #regression line calculations\n",
    "    slope, intercept, r_value, p_value, std_err = st.linregress(x,y)\n",
    "    print(f\"The r-squared is: {round(r_value**2,2)}\") #print the r-squared value\n",
    "\n",
    "    line = slope*x+intercept\n",
    "    plt.plot(x, line, 'r', label='y={:.2f}x+{:.2f}'.format(slope,intercept))\n",
    "    #end\n",
    "\n",
    "    #calculate correlation coefficient\n",
    "    correlation = x.corr(y)\n",
    "    print(f\"The correlation between both factors is {round(correlation,2)}\")\n",
    "\n",
    "    #scatter plot\n",
    "    plt.scatter(x, y, marker=\"o\", color=\"tab:blue\", alpha=0.5)\n",
    "    plt.legend(fontsize=9)\n",
    "\n",
    "    plt.show()\n",
    "    return"
   ]
  },
  {
   "cell_type": "code",
   "execution_count": null,
   "metadata": {},
   "outputs": [],
   "source": [
    "#Input chart titles and the x & y variables you would like to compare\n",
    "\n",
    "# Chart Titles\n",
    "plt.title()\n",
    "plt.ylabel()\n",
    "plt.xlabel()\n",
    "\n",
    "linear_reg(x = <x_variable>, y = <y_variable>)"
   ]
  }
 ],
 "metadata": {
  "kernelspec": {
   "display_name": "Python 3",
   "language": "python",
   "name": "python3"
  },
  "language_info": {
   "codemirror_mode": {
    "name": "ipython",
    "version": 3
   },
   "file_extension": ".py",
   "mimetype": "text/x-python",
   "name": "python",
   "nbconvert_exporter": "python",
   "pygments_lexer": "ipython3",
   "version": "3.6.10"
  }
 },
 "nbformat": 4,
 "nbformat_minor": 4
}

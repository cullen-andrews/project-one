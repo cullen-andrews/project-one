{
 "cells": [
  {
   "cell_type": "code",
   "execution_count": 1,
   "metadata": {},
   "outputs": [
    {
     "name": "stdout",
     "output_type": "stream",
     "text": [
      "Requirement already satisfied: us in c:\\users\\simo8\\anaconda3\\envs\\pythondata\\lib\\site-packages (2.0.2)\n",
      "Requirement already satisfied: jellyfish==0.6.1 in c:\\users\\simo8\\anaconda3\\envs\\pythondata\\lib\\site-packages (from us) (0.6.1)\n",
      "Note: you may need to restart the kernel to use updated packages.\n"
     ]
    }
   ],
   "source": [
    "pip install us"
   ]
  },
  {
   "cell_type": "code",
   "execution_count": 2,
   "metadata": {},
   "outputs": [],
   "source": [
    "import numpy as np\n",
    "import pandas as pd\n",
    "import matplotlib.pyplot as plt\n",
    "import requests\n",
    "from census import Census\n",
    "from scipy.stats import linregress\n",
    "from config import api_key"
   ]
  },
  {
   "cell_type": "code",
   "execution_count": 3,
   "metadata": {},
   "outputs": [],
   "source": [
    "# From Tera being awesome and helping us and giving us starter code\n",
    "# See: https://github.com/CommerceDataService/census-wrapper for library documentation\n",
    "# See: https://gist.github.com/afhaque/60558290d6efd892351c4b64e5c01e9b for labels\n",
    "c_pull = Census(api_key, year=2011)\n",
    "census_data_acs5 = c_pull.acs5.get((\"NAME\",\n",
    "                                    \"B19013_001E\",\n",
    "                                    \"B01003_001E\",\n",
    "                                    \"B01002_001E\",\n",
    "                                    \"B19301_001E\",\n",
    "                                    \"B17001_002E\",\n",
    "                                    \"B03002_003E\",\n",
    "                                    \"B19013A_001E\",\n",
    "                                    \"B03002_004E\",\n",
    "                                    \"B19013B_001E\",\n",
    "                                    \"B03002_005E\",\n",
    "                                    \"B19013C_001E\",\n",
    "                                   \"B03002_006E\",\n",
    "                                    \"B19013D_001E\",\n",
    "                                   \"B03002_007E\",\n",
    "                                    \"B19013E_001E\",\n",
    "                                   \"B03002_008E\",\n",
    "                                    \"B19013F_001E\",\n",
    "                                   \"B03002_009E\",\n",
    "                                    \"B19013G_001E\",\n",
    "                                   \"B03001_003E\",\n",
    "                                    \"B19013I_001E\"),\n",
    "                            {'for': 'state:*'})\n",
    "# Convert to DataFrame\n",
    "census_pd_2011 = pd.DataFrame(census_data_acs5)\n",
    "# Column Reordering\n",
    "census_pd_2011 = census_pd_2011.rename(columns={\"B01003_001E\": \"Population\",\n",
    "                                                \"B01002_001E\": \"Median Age\",\n",
    "                                                \"B19013_001E\": \"Average Household Income\",\n",
    "                                                \"B19301_001E\": \"Per Capita Income\",\n",
    "                                                \"B17001_002E\": \"Poverty Count\",\n",
    "                                                \"B03002_003E\": \"White Pop\",\n",
    "                                                \"B19013A_001E\": \"White Median Income\",\n",
    "                                                \"B03002_004E\": \"Black Pop\",\n",
    "                                                \"B19013B_001E\": \"Black Median Income\",\n",
    "                                                \"B03002_005E\": \"Native American Pop\",\n",
    "                                                \"B19013C_001E\": \"Native American Median Income\",\n",
    "                                                \"B03002_006E\": \"Asian Pop\",\n",
    "                                                \"B19013D_001E\": \"Asian Median Income\",\n",
    "                                                \"B03002_007E\": \"Pacific Islander Pop\",\n",
    "                                                \"B19013E_001E\": \"Pacific Islander Median Income\",\n",
    "                                                \"B03002_008E\": \"Other Race Pop\",\n",
    "                                                \"B19013F_001E\": \"Other Race Median Income\",\n",
    "                                                \"B03002_009E\": \"Two or More Races Pop\",\n",
    "                                                \"B19013G_001E\": \"Two or More Races Median Income\",\n",
    "                                                \"B03001_003E\": \"Hispanic or Latino Pop\",\n",
    "                                                \"B19013I_001E\": \"Hispanic or Latino Median Income\",\n",
    "                                              \"NAME\": \"Name\", \"zip code tabulation area\": \"zip\"})\n"
   ]
  },
  {
   "cell_type": "code",
   "execution_count": 4,
   "metadata": {},
   "outputs": [],
   "source": [
    "# From Tera being awesome and helping us and giving us starter code\n",
    "# See: https://github.com/CommerceDataService/census-wrapper for library documentation\n",
    "# See: https://gist.github.com/afhaque/60558290d6efd892351c4b64e5c01e9b for labels\n",
    "c_pull = Census(api_key, year=2014)\n",
    "census_data_acs5 = c_pull.acs5.get((\"NAME\",\n",
    "                                    \"B19013_001E\",\n",
    "                                    \"B01003_001E\",\n",
    "                                    \"B01002_001E\",\n",
    "                                    \"B19301_001E\",\n",
    "                                    \"B17001_002E\",\n",
    "                                    \"B03002_003E\",\n",
    "                                    \"B19013A_001E\",\n",
    "                                    \"B03002_004E\",\n",
    "                                    \"B19013B_001E\",\n",
    "                                    \"B03002_005E\",\n",
    "                                    \"B19013C_001E\",\n",
    "                                   \"B03002_006E\",\n",
    "                                    \"B19013D_001E\",\n",
    "                                   \"B03002_007E\",\n",
    "                                    \"B19013E_001E\",\n",
    "                                   \"B03002_008E\",\n",
    "                                    \"B19013F_001E\",\n",
    "                                   \"B03002_009E\",\n",
    "                                    \"B19013G_001E\",\n",
    "                                   \"B03001_003E\",\n",
    "                                    \"B19013I_001E\"),\n",
    "                            {'for': 'state:*'})\n",
    "# Convert to DataFrame\n",
    "census_pd_2014 = pd.DataFrame(census_data_acs5)\n",
    "# Column Reordering\n",
    "census_pd_2014 = census_pd_2014.rename(columns={\"B01003_001E\": \"Population\",\n",
    "                                                \"B01002_001E\": \"Median Age\",\n",
    "                                                \"B19013_001E\": \"Average Household Income\",\n",
    "                                                \"B19301_001E\": \"Per Capita Income\",\n",
    "                                                \"B17001_002E\": \"Poverty Count\",\n",
    "                                                \"B03002_003E\": \"White Pop\",\n",
    "                                                \"B19013A_001E\": \"White Median Income\",\n",
    "                                                \"B03002_004E\": \"Black Pop\",\n",
    "                                                \"B19013B_001E\": \"Black Median Income\",\n",
    "                                                \"B03002_005E\": \"Native American Pop\",\n",
    "                                                \"B19013C_001E\": \"Native American Median Income\",\n",
    "                                                \"B03002_006E\": \"Asian Pop\",\n",
    "                                                \"B19013D_001E\": \"Asian Median Income\",\n",
    "                                                \"B03002_007E\": \"Pacific Islander Pop\",\n",
    "                                                \"B19013E_001E\": \"Pacific Islander Median Income\",\n",
    "                                                \"B03002_008E\": \"Other Race Pop\",\n",
    "                                                \"B19013F_001E\": \"Other Race Median Income\",\n",
    "                                                \"B03002_009E\": \"Two or More Races Pop\",\n",
    "                                                \"B19013G_001E\": \"Two or More Races Median Income\",\n",
    "                                                \"B03001_003E\": \"Hispanic or Latino Pop\",\n",
    "                                                \"B19013I_001E\": \"Hispanic or Latino Median Income\",\n",
    "                                              \"NAME\": \"Name\", \"zip code tabulation area\": \"zip\"})\n"
   ]
  },
  {
   "cell_type": "code",
   "execution_count": 5,
   "metadata": {},
   "outputs": [],
   "source": [
    "# From Tera being awesome and helping us and giving us starter code\n",
    "# See: https://github.com/CommerceDataService/census-wrapper for library documentation\n",
    "# See: https://gist.github.com/afhaque/60558290d6efd892351c4b64e5c01e9b for labels\n",
    "c_pull = Census(api_key, year=2018)\n",
    "census_data_acs5 = c_pull.acs5.get((\"NAME\",\n",
    "                                    \"B19013_001E\",\n",
    "                                    \"B01003_001E\",\n",
    "                                    \"B01002_001E\",\n",
    "                                    \"B19301_001E\",\n",
    "                                    \"B17001_002E\",\n",
    "                                    \"B03002_003E\",\n",
    "                                    \"B19013A_001E\",\n",
    "                                    \"B03002_004E\",\n",
    "                                    \"B19013B_001E\",\n",
    "                                    \"B03002_005E\",\n",
    "                                    \"B19013C_001E\",\n",
    "                                   \"B03002_006E\",\n",
    "                                    \"B19013D_001E\",\n",
    "                                   \"B03002_007E\",\n",
    "                                    \"B19013E_001E\",\n",
    "                                   \"B03002_008E\",\n",
    "                                    \"B19013F_001E\",\n",
    "                                   \"B03002_009E\",\n",
    "                                    \"B19013G_001E\",\n",
    "                                   \"B03001_003E\",\n",
    "                                    \"B19013I_001E\"),\n",
    "                            {'for': 'state:*'})\n",
    "# Convert to DataFrame\n",
    "census_pd_2018 = pd.DataFrame(census_data_acs5)\n",
    "# Column Reordering\n",
    "census_pd_2018 = census_pd_2018.rename(columns={\"B01003_001E\": \"Population\",\n",
    "                                                \"B01002_001E\": \"Median Age\",\n",
    "                                                \"B19013_001E\": \"Average Household Income\",\n",
    "                                                \"B19301_001E\": \"Per Capita Income\",\n",
    "                                                \"B17001_002E\": \"Poverty Count\",\n",
    "                                                \"B03002_003E\": \"White Pop\",\n",
    "                                                \"B19013A_001E\": \"White Median Income\",\n",
    "                                                \"B03002_004E\": \"Black Pop\",\n",
    "                                                \"B19013B_001E\": \"Black Median Income\",\n",
    "                                                \"B03002_005E\": \"Native American Pop\",\n",
    "                                                \"B19013C_001E\": \"Native American Median Income\",\n",
    "                                                \"B03002_006E\": \"Asian Pop\",\n",
    "                                                \"B19013D_001E\": \"Asian Median Income\",\n",
    "                                                \"B03002_007E\": \"Pacific Islander Pop\",\n",
    "                                                \"B19013E_001E\": \"Pacific Islander Median Income\",\n",
    "                                                \"B03002_008E\": \"Other Race Pop\",\n",
    "                                                \"B19013F_001E\": \"Other Race Median Income\",\n",
    "                                                \"B03002_009E\": \"Two or More Races Pop\",\n",
    "                                                \"B19013G_001E\": \"Two or More Races Median Income\",\n",
    "                                                \"B03001_003E\": \"Hispanic or Latino Pop\",\n",
    "                                                \"B19013I_001E\": \"Hispanic or Latino Median Income\",\n",
    "                                              \"NAME\": \"Name\", \"zip code tabulation area\": \"zip\"})\n"
   ]
  },
  {
   "cell_type": "code",
   "execution_count": 6,
   "metadata": {},
   "outputs": [],
   "source": [
    "merge_1_df = pd.merge(census_pd_2011, census_pd_2014, on=\"Name\", suffixes= [\"_2011\",\"_2014\"], how=\"outer\")\n"
   ]
  },
  {
   "cell_type": "code",
   "execution_count": 7,
   "metadata": {},
   "outputs": [],
   "source": [
    "merge_2_df = pd.merge(merge_1_df, census_pd_2018, on=\"Name\", how=\"outer\")"
   ]
  },
  {
   "cell_type": "code",
   "execution_count": null,
   "metadata": {},
   "outputs": [],
   "source": []
  },
  {
   "cell_type": "code",
   "execution_count": 8,
   "metadata": {},
   "outputs": [],
   "source": [
    "difference_white = merge_2_df['White Median Income'] - merge_2_df['White Median Income_2014']\n",
    "difference_white1 = merge_2_df['White Median Income_2014'] - merge_2_df['White Median Income_2011']\n",
    "merge_2_df['Difference in White Median Income (2011-2014)'] = difference_white1\n",
    "merge_2_df['Difference in White Median Income (2014-2018)'] = difference_white\n",
    "\n",
    "difference_black = merge_2_df['Black Median Income'] - merge_2_df['Black Median Income_2014']\n",
    "difference_black1 = merge_2_df['Black Median Income_2014'] - merge_2_df['Black Median Income_2011']\n",
    "merge_2_df['Difference in Black Median Income (2011-2014)'] = difference_black1\n",
    "merge_2_df['Difference in Black Median Income (2014-2018)'] = difference_black\n",
    "\n",
    "difference_asian = merge_2_df['Asian Median Income'] - merge_2_df['Asian Median Income_2014']\n",
    "difference_asian1 = merge_2_df['Asian Median Income_2014'] - merge_2_df['Asian Median Income_2011']\n",
    "merge_2_df['Difference in Asian Median Income (2011-2014)'] = difference_asian1\n",
    "merge_2_df['Difference in Asian Median Income (2014-2018)'] = difference_asian\n",
    "\n",
    "difference_hispanic = merge_2_df['Hispanic or Latino Median Income'] - merge_2_df['Hispanic or Latino Median Income_2014']\n",
    "difference_hispanic1 = merge_2_df['Hispanic or Latino Median Income_2014'] - merge_2_df['Hispanic or Latino Median Income_2011']\n",
    "merge_2_df['Difference in Hispanic or Latino Median Income (2011-2014)'] = difference_hispanic1\n",
    "merge_2_df['Difference in Hispanic or Latino Median Income (2014-2018)'] = difference_hispanic\n",
    " "
   ]
  },
  {
   "cell_type": "code",
   "execution_count": 9,
   "metadata": {},
   "outputs": [],
   "source": [
    "# merge_2_df.columns.to_list()\n"
   ]
  },
  {
   "cell_type": "code",
   "execution_count": 10,
   "metadata": {},
   "outputs": [],
   "source": [
    "analysis_df_1 = merge_2_df.drop(columns=['Native American Pop_2011','Native American Pop_2011',\\\n",
    "                                        'Native American Median Income_2011','Pacific Islander Pop_2011','Pacific Islander Median Income_2011',\\\n",
    "                                         'Other Race Pop_2011','Other Race Median Income_2011','Two or More Races Pop_2011','Two or More Races Median Income_2011',\\\n",
    "                                         'state_2011','Median Age_2014','Native American Pop_2014','Native American Median Income_2014','Pacific Islander Pop_2014','Pacific Islander Median Income_2014',\\\n",
    "                                         'Other Race Pop_2014','Other Race Median Income_2014','Two or More Races Pop_2014','Two or More Races Median Income_2014',\\\n",
    "                                        'state_2014','Native American Pop','Native American Median Income','Per Capita Income','Median Age','Per Capita Income_2014',\\\n",
    "                                        'Pacific Islander Pop','Pacific Islander Median Income','Other Race Pop','Other Race Median Income',\\\n",
    "                                        'Two or More Races Pop','Two or More Races Median Income','state','Median Age_2011','Per Capita Income_2011'])"
   ]
  },
  {
   "cell_type": "code",
   "execution_count": 11,
   "metadata": {},
   "outputs": [],
   "source": [
    "analysis_df_1.columns.to_list()\n",
    "#export cleaned census dataframe to csv\n",
    "analysis_df_1.to_csv('cleaned_census_data2011-2014-2018.csv')"
   ]
  },
  {
   "cell_type": "code",
   "execution_count": 12,
   "metadata": {},
   "outputs": [
    {
     "data": {
      "text/html": [
       "<div>\n",
       "<style scoped>\n",
       "    .dataframe tbody tr th:only-of-type {\n",
       "        vertical-align: middle;\n",
       "    }\n",
       "\n",
       "    .dataframe tbody tr th {\n",
       "        vertical-align: top;\n",
       "    }\n",
       "\n",
       "    .dataframe thead th {\n",
       "        text-align: right;\n",
       "    }\n",
       "</style>\n",
       "<table border=\"1\" class=\"dataframe\">\n",
       "  <thead>\n",
       "    <tr style=\"text-align: right;\">\n",
       "      <th></th>\n",
       "      <th>2011</th>\n",
       "      <th>2014</th>\n",
       "      <th>2018</th>\n",
       "    </tr>\n",
       "  </thead>\n",
       "  <tbody>\n",
       "    <tr>\n",
       "      <th>total population</th>\n",
       "      <td>310346358.0</td>\n",
       "      <td>317746049.0</td>\n",
       "      <td>326289971.0</td>\n",
       "    </tr>\n",
       "    <tr>\n",
       "      <th>white population</th>\n",
       "      <td>196763239.0</td>\n",
       "      <td>197185075.0</td>\n",
       "      <td>197209192.0</td>\n",
       "    </tr>\n",
       "    <tr>\n",
       "      <th>hispanic or latino population</th>\n",
       "      <td>52913517.0</td>\n",
       "      <td>56672014.0</td>\n",
       "      <td>60867275.0</td>\n",
       "    </tr>\n",
       "    <tr>\n",
       "      <th>black population</th>\n",
       "      <td>37453957.0</td>\n",
       "      <td>38463635.0</td>\n",
       "      <td>39719024.0</td>\n",
       "    </tr>\n",
       "    <tr>\n",
       "      <th>asian population</th>\n",
       "      <td>14335378.0</td>\n",
       "      <td>15538497.0</td>\n",
       "      <td>17369506.0</td>\n",
       "    </tr>\n",
       "  </tbody>\n",
       "</table>\n",
       "</div>"
      ],
      "text/plain": [
       "                                      2011         2014         2018\n",
       "total population               310346358.0  317746049.0  326289971.0\n",
       "white population               196763239.0  197185075.0  197209192.0\n",
       "hispanic or latino population   52913517.0   56672014.0   60867275.0\n",
       "black population                37453957.0   38463635.0   39719024.0\n",
       "asian population                14335378.0   15538497.0   17369506.0"
      ]
     },
     "execution_count": 12,
     "metadata": {},
     "output_type": "execute_result"
    }
   ],
   "source": [
    "#Total population per year and population by race\n",
    "#resource: https://stackoverflow.com/questions/9676212/how-to-sum-data-frame-column-values\n",
    "t_pop11 = sum(analysis_df_1['Population_2011'])\n",
    "t_pop14 = sum(analysis_df_1['Population_2014'])\n",
    "t_pop18 = sum(analysis_df_1['Population'])\n",
    "\n",
    "t_pop11_b = sum(analysis_df_1['Black Pop_2011'])\n",
    "t_pop14_b = sum(analysis_df_1['Black Pop_2014'])\n",
    "t_pop18_b = sum(analysis_df_1['Black Pop'])\n",
    "\n",
    "t_pop11_w = sum(analysis_df_1['White Pop_2011'])\n",
    "t_pop14_w = sum(analysis_df_1['White Pop_2014'])\n",
    "t_pop18_w = sum(analysis_df_1['White Pop'])\n",
    "\n",
    "t_pop11_h = sum(analysis_df_1['Hispanic or Latino Pop_2011'])\n",
    "t_pop14_h = sum(analysis_df_1['Hispanic or Latino Pop_2014'])\n",
    "t_pop18_h = sum(analysis_df_1['Hispanic or Latino Pop'])\n",
    "\n",
    "t_pop11_a = sum(analysis_df_1['Asian Pop_2011'])\n",
    "t_pop14_a = sum(analysis_df_1['Asian Pop_2014'])\n",
    "t_pop18_a = sum(analysis_df_1['Asian Pop'])\n",
    "\n",
    "population_df = pd.DataFrame({'2011':{'total population': t_pop11,'black population': t_pop11_b,'white population':t_pop11_w,\\\n",
    "                                      'hispanic or latino population':t_pop11_h,'asian population':t_pop11_a},\\\n",
    "                             '2014':{'total population': t_pop14,'black population': t_pop14_b,'white population':t_pop14_w,\\\n",
    "                                      'hispanic or latino population':t_pop14_h,'asian population':t_pop14_a},\\\n",
    "                             '2018':{'total population': t_pop18,'black population': t_pop18_b,'white population':t_pop18_w,\\\n",
    "                                      'hispanic or latino population':t_pop18_h,'asian population':t_pop18_a}\n",
    "                             })\n",
    "population_df.sort_values(by=['2011','2014','2018'], axis=0, ascending=False)"
   ]
  },
  {
   "cell_type": "code",
   "execution_count": 13,
   "metadata": {},
   "outputs": [
    {
     "data": {
      "image/png": "[encoded data removed]",
      "text/plain": [
       "<Figure size 432x288 with 1 Axes>"
      ]
     },
     "metadata": {
      "needs_background": "light"
     },
     "output_type": "display_data"
    }
   ],
   "source": [
    "# Above results need transposing to calculate some quick percent changes\n",
    "population_df_transpose = population_df.transpose()\n",
    "\n",
    "#percent change\n",
    "#resource: https://pandas.pydata.org/pandas-docs/stable/reference/api/pandas.DataFrame.pct_change.html\n",
    "percent_change_pop = population_df_transpose.pct_change()\n",
    "\n",
    "#format percentages ->\"{:.2%}\"\n",
    "percent_change_pop['total population'] = pd.Series([(val * 100) for val in percent_change_pop['total population']], index = percent_change_pop.index)\n",
    "percent_change_pop['white population'] = pd.Series([(val * 100) for val in percent_change_pop['white population']], index = percent_change_pop.index)\n",
    "percent_change_pop['hispanic or latino population'] = pd.Series([(val * 100) for val in percent_change_pop['hispanic or latino population']], index = percent_change_pop.index)\n",
    "percent_change_pop['black population'] = pd.Series([(val * 100) for val in percent_change_pop['black population']], index = percent_change_pop.index)\n",
    "percent_change_pop['asian population'] = pd.Series([(val * 100) for val in percent_change_pop['asian population']], index = percent_change_pop.index)\n",
    "\n",
    "clean_percent_change_pop = percent_change_pop.dropna()\n",
    "\n",
    "\n",
    "#plot bar graph\n",
    "# bar_fig = plt.figure(figsize=(20,15))\n",
    "ax = clean_percent_change_pop.plot.bar(rot=0)\n",
    "\n",
    "#Set new xtick labels\n",
    "year_span = ['2011-2014','2014-2018']\n",
    "ax.set_xticklabels(year_span)\n",
    "ax.legend(bbox_to_anchor=(1.0, .38))\n",
    "\n",
    "#titles\n",
    "title = plt.title(\"Percent Change of Population 2011-2018\")\n",
    "yl = plt.ylabel(\"Percent (%) Increase\")\n",
    "xl = plt.xlabel(\"Year Span\")\n",
    "\n",
    "# Save the figure\n",
    "# resource: https://stackoverflow.com/questions/18992086/save-a-pandas-series-histogram-plot-to-file\n",
    "fig = ax.get_figure()\n",
    "fig.savefig('../images/barchart_pop_change_percent.png', bbox_inches='tight')\n"
   ]
  },
  {
   "cell_type": "code",
   "execution_count": 14,
   "metadata": {},
   "outputs": [
    {
     "data": {
      "text/html": [
       "<div>\n",
       "<style scoped>\n",
       "    .dataframe tbody tr th:only-of-type {\n",
       "        vertical-align: middle;\n",
       "    }\n",
       "\n",
       "    .dataframe tbody tr th {\n",
       "        vertical-align: top;\n",
       "    }\n",
       "\n",
       "    .dataframe thead th {\n",
       "        text-align: right;\n",
       "    }\n",
       "</style>\n",
       "<table border=\"1\" class=\"dataframe\">\n",
       "  <thead>\n",
       "    <tr style=\"text-align: right;\">\n",
       "      <th></th>\n",
       "      <th>total population</th>\n",
       "      <th>black population</th>\n",
       "      <th>white population</th>\n",
       "      <th>hispanic or latino population</th>\n",
       "      <th>asian population</th>\n",
       "    </tr>\n",
       "  </thead>\n",
       "  <tbody>\n",
       "    <tr>\n",
       "      <th>2011</th>\n",
       "      <td>NaN</td>\n",
       "      <td>NaN</td>\n",
       "      <td>NaN</td>\n",
       "      <td>NaN</td>\n",
       "      <td>NaN</td>\n",
       "    </tr>\n",
       "    <tr>\n",
       "      <th>2014</th>\n",
       "      <td>2.384333</td>\n",
       "      <td>2.695785</td>\n",
       "      <td>0.214388</td>\n",
       "      <td>7.103094</td>\n",
       "      <td>8.392656</td>\n",
       "    </tr>\n",
       "    <tr>\n",
       "      <th>2018</th>\n",
       "      <td>2.688915</td>\n",
       "      <td>3.263833</td>\n",
       "      <td>0.012231</td>\n",
       "      <td>7.402703</td>\n",
       "      <td>11.783694</td>\n",
       "    </tr>\n",
       "  </tbody>\n",
       "</table>\n",
       "</div>"
      ],
      "text/plain": [
       "      total population  black population  white population  \\\n",
       "2011               NaN               NaN               NaN   \n",
       "2014          2.384333          2.695785          0.214388   \n",
       "2018          2.688915          3.263833          0.012231   \n",
       "\n",
       "      hispanic or latino population  asian population  \n",
       "2011                            NaN               NaN  \n",
       "2014                       7.103094          8.392656  \n",
       "2018                       7.402703         11.783694  "
      ]
     },
     "execution_count": 14,
     "metadata": {},
     "output_type": "execute_result"
    }
   ],
   "source": [
    "percent_change_pop\n"
   ]
  },
  {
   "cell_type": "code",
   "execution_count": 15,
   "metadata": {},
   "outputs": [
    {
     "data": {
      "image/png": "[encoded data removed]",
      "text/plain": [
       "<Figure size 432x288 with 1 Axes>"
      ]
     },
     "metadata": {
      "needs_background": "light"
     },
     "output_type": "display_data"
    }
   ],
   "source": [
    "#Line graphs of populations - conclusion-- not a good graph to use\n",
    "#Bar graphs of population maybe?\n",
    "x_axis = np.arange(1,4,1)\n",
    "\n",
    "y_total = population_df.loc['total population']\n",
    "y_white = population_df.loc['white population']\n",
    "y_hisp = population_df.loc['hispanic or latino population']\n",
    "y_black = population_df.loc['black population']\n",
    "y_asian = population_df.loc['asian population']\n",
    "\n",
    "# #Line graphs\n",
    "total_pop, = plt.plot(x_axis, y_total, label=\"total pop\")\n",
    "w_pop, = plt.plot(x_axis, y_white, label=\"total white pop\")\n",
    "his_pop, = plt.plot(x_axis, y_hisp, label=\"total hispanic or latino pop\")\n",
    "# total_pop, = plt.plot(x_axis, y_total, label=\"total pop\")\n",
    "# total_pop, = plt.plot(x_axis, y_total, label=\"total pop\")\n",
    "\n",
    "\n",
    "# # Set our legend to where the chart thinks is best\n",
    "legend = plt.legend(handles=[total_pop, w_pop, his_pop], loc=\"best\")"
   ]
  },
  {
   "cell_type": "code",
   "execution_count": 16,
   "metadata": {},
   "outputs": [],
   "source": [
    "# Read in the college data csv - top 3 universities in each state diversity changes\n",
    "dc_master_df = pd.read_csv('../Resources/diversity_changes.csv')\n",
    "college_diversity_df = dc_master_df[[ 'STABBR',\n",
    "                                     'WHITE_change_14_18',\n",
    "                                     'WHITE_change_11_18',\n",
    "                                     'WHITE_change_11_14',\n",
    "                                     'BLACK_change_14_18',\n",
    "                                     'BLACK_change_11_18',\n",
    "                                     'BLACK_change_11_14',\n",
    "                                     'HISP_change_14_18',\n",
    "                                     'HISP_change_11_18',\n",
    "                                     'HISP_change_11_14',\n",
    "                                     'ASIAN_change_14_18',\n",
    "                                     'ASIAN_change_11_18',\n",
    "                                     'ASIAN_change_11_14',\n",
    "                                    ]]"
   ]
  },
  {
   "cell_type": "code",
   "execution_count": 17,
   "metadata": {},
   "outputs": [
    {
     "ename": "TypeError",
     "evalue": "'Index' object is not callable",
     "output_type": "error",
     "traceback": [
      "\u001b[1;31m---------------------------------------------------------------------------\u001b[0m",
      "\u001b[1;31mTypeError\u001b[0m                                 Traceback (most recent call last)",
      "\u001b[1;32m<ipython-input-17-9d4e15450b44>\u001b[0m in \u001b[0;36m<module>\u001b[1;34m\u001b[0m\n\u001b[1;32m----> 1\u001b[1;33m \u001b[0mdc_master_df\u001b[0m\u001b[1;33m.\u001b[0m\u001b[0mcolumns\u001b[0m\u001b[1;33m(\u001b[0m\u001b[1;33m)\u001b[0m\u001b[1;33m\u001b[0m\u001b[1;33m\u001b[0m\u001b[0m\n\u001b[0m",
      "\u001b[1;31mTypeError\u001b[0m: 'Index' object is not callable"
     ]
    }
   ],
   "source": [
    "dc_master_df.columns()"
   ]
  },
  {
   "cell_type": "code",
   "execution_count": null,
   "metadata": {},
   "outputs": [],
   "source": [
    "# Conclusion: the box plots displayed below overlap in data. At this point in time the team will not\n",
    "# Generate a box plot of each state\n",
    "# resource: https://stackoverflow.com/questions/42990461/pandas-how-to-do-a-boxplot-bases-in-rows-values-instead-of-column-values\n",
    "transposed_df = college_diversity_df.set_index('STABBR').\n",
    "\n",
    "# Figure Size\n",
    "fig = plt.figure(figsize=(35, 25))\n",
    "\n",
    "# Create the boxplot\n",
    "# resource: https://stackoverflow.com/questions/18500011/horizontal-box-plots-in-matplotlib-pandas\n",
    "ax = transposed_df.boxplot(vert=False)\n",
    "\n",
    "# labels\n",
    "title = ax.set_title('Diversity Change % in Top 3 Universities from 2011 - 2018 ', size = 40)\n",
    "y_label = ax.set_ylabel('STATE ABBREVIATION', size = 40)\n",
    "x_label = ax.set_xlabel('Percent Proportion', size = 40)\n",
    "plt.xticks(size = 35)\n",
    "plt.yticks(size = 25)\n",
    "\n",
    "# Save the figure\n",
    "# fig.savefig('images/b&w_college_diversity.png', bbox_inches='tight')\n",
    "fig = ax.get_figure()\n",
    "fig.savefig('../images/box_diversity_change_state', bbox_inches='tight')\n"
   ]
  },
  {
   "cell_type": "code",
   "execution_count": null,
   "metadata": {},
   "outputs": [],
   "source": []
  }
 ],
 "metadata": {
  "kernelspec": {
   "display_name": "Python 3",
   "language": "python",
   "name": "python3"
  },
  "language_info": {
   "codemirror_mode": {
    "name": "ipython",
    "version": 3
   },
   "file_extension": ".py",
   "mimetype": "text/x-python",
   "name": "python",
   "nbconvert_exporter": "python",
   "pygments_lexer": "ipython3",
   "version": "3.6.10"
  }
 },
 "nbformat": 4,
 "nbformat_minor": 4
}
